{
  "cells": [
    {
      "cell_type": "code",
      "execution_count": 18,
      "metadata": {
        "id": "8GF4zvFYbCGh"
      },
      "outputs": [],
      "source": [
        "import numpy as np\n",
        "import time\n",
        "import cupy as cp"
      ]
    },
    {
      "cell_type": "code",
      "source": [
        "length_vectors = [1000, 5000, 10000, 50000, 100000, 500000, 1000000]"
      ],
      "metadata": {
        "id": "VmjKBABUb_UO"
      },
      "execution_count": 19,
      "outputs": []
    },
    {
      "cell_type": "code",
      "execution_count": 20,
      "metadata": {
        "id": "VR137ldnbCGh"
      },
      "outputs": [],
      "source": [
        "add_kernel = cp.RawKernel(r'''\n",
        "extern \"C\" __global__\n",
        "void vec_sum(const int* a, int* b, const int size) {\n",
        "    int gridSize = blockDim.x * gridDim.x;\n",
        "    int first_index = blockIdx.x * blockDim.x + threadIdx.x;\n",
        "    for (int index = first_index; index < size; index += gridSize)\n",
        "    {\n",
        "        atomicAdd(&b[0], a[index]);\n",
        "    }\n",
        "}\n",
        "''', 'vec_sum')"
      ]
    },
    {
      "cell_type": "code",
      "source": [
        "def vector_sum(a):\n",
        "    sum = 0\n",
        "    for i in range(len(a)):\n",
        "        sum += a[i]\n",
        "    return sum"
      ],
      "metadata": {
        "id": "rDDUn_rutOcC"
      },
      "execution_count": 21,
      "outputs": []
    },
    {
      "cell_type": "code",
      "execution_count": null,
      "metadata": {
        "id": "fhERHFwEbCGj"
      },
      "outputs": [],
      "source": [
        "for length in length_vectors:\n",
        "    print(length, 'size')\n",
        "    vector = cp.ones(length, dtype=int)\n",
        "    result = cp.zeros(1, dtype=int)\n",
        "    a_cpu = np.random.random(length)\n",
        "\n",
        "    t = time.perf_counter()\n",
        "    cpu_np_vector_sum = np.sum(a_cpu)\n",
        "    cpu_np_time = time.perf_counter() - t\n",
        "    print(cpu_np_time, 'Time on CPU with numpy')\n",
        "\n",
        "    t = time.perf_counter()\n",
        "    add_kernel((1024,), (1024,), (vector, result, length))\n",
        "    gpu_time = time.perf_counter() - t\n",
        "    print(gpu_time, 'Time on GPU')\n",
        "\n",
        "    t = time.perf_counter()\n",
        "    vector_sum(a_cpu)\n",
        "    cpu_time = time.perf_counter() - t\n",
        "    print(cpu_time, 'Time on CPU')"
      ]
    }
  ],
  "metadata": {
    "kernelspec": {
      "display_name": "Python 3",
      "name": "python3"
    },
    "language_info": {
      "codemirror_mode": {
        "name": "ipython",
        "version": 3
      },
      "file_extension": ".py",
      "mimetype": "text/x-python",
      "name": "python",
      "nbconvert_exporter": "python",
      "pygments_lexer": "ipython3",
      "version": "3.11.1"
    },
    "colab": {
      "provenance": [],
      "gpuType": "T4"
    },
    "accelerator": "GPU"
  },
  "nbformat": 4,
  "nbformat_minor": 0
}