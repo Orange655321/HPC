{
  "cells": [
    {
      "cell_type": "code",
      "execution_count": 1,
      "metadata": {
        "id": "uEH_u9FSGB6c"
      },
      "outputs": [],
      "source": [
        "import numpy as np\n",
        "import time\n",
        "import cupy as cp"
      ]
    },
    {
      "cell_type": "code",
      "execution_count": 8,
      "metadata": {
        "id": "PNFNieJsGB6d"
      },
      "outputs": [],
      "source": [
        "add_kernel = cp.RawKernel(r'''\n",
        "extern \"C\" __global__\n",
        "void matmul(const float* a, const float* b, float* c, int width) {\n",
        "    int x = blockDim.x * blockIdx.x + threadIdx.x;\n",
        "    int y = blockDim.y * blockIdx.y + threadIdx.y;\n",
        "\n",
        "    float value = 0.0, elem1 = 0.0, elem2 = 0.0;\n",
        "\n",
        "    for(int i = 0; i < width; i++)\n",
        "\t{\n",
        "\t\telem1 = a[y * width + i];\n",
        "\t\telem2 = b[i * width + x];\n",
        "\n",
        "\t\tvalue += elem1 * elem2;\n",
        "\t}\n",
        "\n",
        "    c[y * width + x] = value;\n",
        "}\n",
        "''',\n",
        "\"matmul\")"
      ]
    },
    {
      "cell_type": "code",
      "execution_count": 40,
      "metadata": {
        "id": "QtxiduUZGB6d"
      },
      "outputs": [],
      "source": [
        "heigth = 2000\n",
        "width = 2000"
      ]
    },
    {
      "cell_type": "code",
      "execution_count": 41,
      "metadata": {
        "id": "ct7p6v93GB6f"
      },
      "outputs": [],
      "source": [
        "A = cp.ones((width,heigth), dtype=cp.float32)\n",
        "B = cp.ones((width,heigth), dtype=cp.float32)\n",
        "res_C = cp.zeros((width,heigth), dtype=cp.float32)"
      ]
    },
    {
      "cell_type": "markdown",
      "metadata": {
        "id": "mESnkwE9GB6f"
      },
      "source": [
        "GPU"
      ]
    },
    {
      "cell_type": "code",
      "execution_count": 42,
      "metadata": {
        "colab": {
          "base_uri": "https://localhost:8080/"
        },
        "id": "JcQgduIkGB6g",
        "outputId": "c73f9f05-632a-4bae-9601-7370fdbedfea"
      },
      "outputs": [
        {
          "output_type": "stream",
          "name": "stdout",
          "text": [
            "0.00029392799979177653\n"
          ]
        }
      ],
      "source": [
        "gstart = time.perf_counter()\n",
        "result = add_kernel((200, 200), (10, 10), (A, B, res_C, width))\n",
        "gend = time.perf_counter()\n",
        "\n",
        "print(gend - gstart)"
      ]
    },
    {
      "cell_type": "markdown",
      "metadata": {
        "id": "XsrS2Pu8GB6g"
      },
      "source": [
        " CPU\n",
        "\n"
      ]
    },
    {
      "cell_type": "code",
      "execution_count": 43,
      "metadata": {
        "colab": {
          "base_uri": "https://localhost:8080/"
        },
        "id": "6lgseIs4GB6g",
        "outputId": "4769cd57-8012-42e2-b484-e73d904a87bc"
      },
      "outputs": [
        {
          "output_type": "stream",
          "name": "stdout",
          "text": [
            "6325.471939096\n"
          ]
        }
      ],
      "source": [
        "def cpu_matmul(a, b, n):\n",
        "    c = np.zeros((n, n))\n",
        "    for i in range(n):\n",
        "        for j in range(n):\n",
        "            c[i, j] = 0\n",
        "            for k in range(n):\n",
        "                c[i, j] += a[i, j]*b[i, j]\n",
        "    return c\n",
        "\n",
        "\n",
        "x = np.arange(width*heigth, dtype=np.float32).reshape(width,heigth)\n",
        "y = np.arange(width*heigth, dtype=np.float32).reshape(width,heigth)\n",
        "\n",
        "cstart = time.perf_counter()\n",
        "cpu_matmul(x, y, width)\n",
        "cend = time.perf_counter()\n",
        "\n",
        "print(cend-cstart)"
      ]
    }
  ],
  "metadata": {
    "kernelspec": {
      "display_name": "Python 3",
      "name": "python3"
    },
    "language_info": {
      "codemirror_mode": {
        "name": "ipython",
        "version": 3
      },
      "file_extension": ".py",
      "mimetype": "text/x-python",
      "name": "python",
      "nbconvert_exporter": "python",
      "pygments_lexer": "ipython3",
      "version": "3.11.1"
    },
    "colab": {
      "provenance": [],
      "gpuType": "T4"
    },
    "accelerator": "GPU"
  },
  "nbformat": 4,
  "nbformat_minor": 0
}